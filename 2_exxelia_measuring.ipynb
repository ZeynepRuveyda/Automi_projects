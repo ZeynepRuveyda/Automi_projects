{
  "nbformat": 4,
  "nbformat_minor": 0,
  "metadata": {
    "colab": {
      "name": "2_exxelia_measuring.ipynb",
      "provenance": [],
      "authorship_tag": "ABX9TyPB5fQFc24II1neaUxCrbxs",
      "include_colab_link": true
    },
    "kernelspec": {
      "name": "python3",
      "display_name": "Python 3"
    },
    "language_info": {
      "name": "python"
    }
  },
  "cells": [
    {
      "cell_type": "markdown",
      "metadata": {
        "id": "view-in-github",
        "colab_type": "text"
      },
      "source": [
        "<a href=\"https://colab.research.google.com/github/ZeynepRuveyda/Automi_projects/blob/main/2_exxelia_measuring.ipynb\" target=\"_parent\"><img src=\"https://colab.research.google.com/assets/colab-badge.svg\" alt=\"Open In Colab\"/></a>"
      ]
    },
    {
      "cell_type": "code",
      "execution_count": 1,
      "metadata": {
        "id": "Laujt-AXmgBH"
      },
      "outputs": [],
      "source": [
        "# import the necessary packages\n",
        "from scipy.spatial import distance as dist\n",
        "from imutils import perspective\n",
        "from imutils import contours\n",
        "import numpy as np\n",
        "import argparse\n",
        "import imutils\n",
        "import cv2\n",
        "def midpoint(ptA, ptB):\n",
        "\treturn ((ptA[0] + ptB[0]) * 0.5, (ptA[1] + ptB[1]) * 0.5)"
      ]
    },
    {
      "cell_type": "code",
      "source": [
        "from google.colab import drive\n",
        "drive.mount('/content/drive')"
      ],
      "metadata": {
        "colab": {
          "base_uri": "https://localhost:8080/"
        },
        "id": "Z7gr3FPy0fhA",
        "outputId": "4b5025de-6c8c-4895-cae1-1ac6d1aa859a"
      },
      "execution_count": 2,
      "outputs": [
        {
          "output_type": "stream",
          "name": "stdout",
          "text": [
            "Mounted at /content/drive\n"
          ]
        }
      ]
    },
    {
      "cell_type": "code",
      "source": [
        "!pip install imutils"
      ],
      "metadata": {
        "id": "nvanTiX_IkVW",
        "colab": {
          "base_uri": "https://localhost:8080/"
        },
        "outputId": "daa1960f-5e8e-4773-a6bc-68bbeb2d10b4"
      },
      "execution_count": 4,
      "outputs": [
        {
          "output_type": "stream",
          "name": "stdout",
          "text": [
            "Requirement already satisfied: imutils in /usr/local/lib/python3.7/dist-packages (0.5.4)\n"
          ]
        }
      ]
    },
    {
      "cell_type": "code",
      "source": [
        "!pip install --upgrade imutils"
      ],
      "metadata": {
        "colab": {
          "base_uri": "https://localhost:8080/"
        },
        "id": "-4iMglf7g5Yr",
        "outputId": "9f05960c-9582-4970-cbd2-64d094721ec1"
      },
      "execution_count": 5,
      "outputs": [
        {
          "output_type": "stream",
          "name": "stdout",
          "text": [
            "Requirement already satisfied: imutils in /usr/local/lib/python3.7/dist-packages (0.5.4)\n"
          ]
        }
      ]
    },
    {
      "cell_type": "code",
      "source": [
        "# load the image, convert it to grayscale, and blur it slightly\n",
        "image = cv2.imread('/content/drive/My Drive/Exxelia/e_1.jpg')\n",
        "gray = cv2.cvtColor(image, cv2.COLOR_BGR2GRAY)\n",
        "gray = cv2.GaussianBlur(gray, (7, 7), 0)\n",
        "# perform edge detection, then perform a dilation + erosion to\n",
        "# close gaps in between object edges\n",
        "edged = cv2.Canny(gray, 50, 100)\n",
        "edged = cv2.dilate(edged, None, iterations=1)\n",
        "edged = cv2.erode(edged, None, iterations=1)\n",
        "# find contours in the edge map\n",
        "cnts = cv2.findContours(edged.copy(), cv2.RETR_EXTERNAL,\n",
        "\tcv2.CHAIN_APPROX_SIMPLE)\n",
        "cnts = imutils.grab_contours(cnts)\n",
        "# sort the contours from left-to-right and initialize the\n",
        "# 'pixels per metric' calibration variable\n",
        "(cnts, _) = contours.sort_contours(cnts)\n",
        "pixelsPerMetric = None"
      ],
      "metadata": {
        "id": "ZWogfHqBg9dn"
      },
      "execution_count": 6,
      "outputs": []
    },
    {
      "cell_type": "code",
      "source": [
        "# loop over the contours individually\n",
        "for c in cnts:\n",
        "\t# if the contour is not sufficiently large, ignore it\n",
        "\tif cv2.contourArea(c) < 100:\n",
        "\t\tcontinue\n",
        "\t# compute the rotated bounding box of the contour\n",
        "\torig = image.copy()\n",
        "\tbox = cv2.minAreaRect(c)\n",
        "\tbox = cv2.cv.BoxPoints(box) if imutils.is_cv2() else cv2.boxPoints(box)\n",
        "\tbox = np.array(box, dtype=\"int\")\n",
        "\t# order the points in the contour such that they appear\n",
        "\t# in top-left, top-right, bottom-right, and bottom-left\n",
        "\t# order, then draw the outline of the rotated bounding\n",
        "\t# box\n",
        "\tbox = perspective.order_points(box)\n",
        "\tcv2.drawContours(orig, [box.astype(\"int\")], -1, (0, 255, 0), 2)\n",
        "\t# loop over the original points and draw them\n",
        "\tfor (x, y) in box:\n",
        "\t\tcv2.circle(orig, (int(x), int(y)), 5, (0, 0, 255), -1)"
      ],
      "metadata": {
        "id": "IxMjK9ZqhWfy"
      },
      "execution_count": 7,
      "outputs": []
    },
    {
      "cell_type": "code",
      "source": [
        "\t# unpack the ordered bounding box, then compute the midpoint\n",
        "\t# between the top-left and top-right coordinates, followed by\n",
        "\t# the midpoint between bottom-left and bottom-right coordinates\n",
        "\t(tl, tr, br, bl) = box\n",
        "\t(tltrX, tltrY) = midpoint(tl, tr)\n",
        "\t(blbrX, blbrY) = midpoint(bl, br)\n",
        "\t# compute the midpoint between the top-left and top-right points,\n",
        "\t# followed by the midpoint between the top-righ and bottom-right\n",
        "\t(tlblX, tlblY) = midpoint(tl, bl)\n",
        "\t(trbrX, trbrY) = midpoint(tr, br)\n",
        "\t# draw the midpoints on the image\n",
        "\tcv2.circle(orig, (int(tltrX), int(tltrY)), 5, (255, 0, 0), -1)\n",
        "\tcv2.circle(orig, (int(blbrX), int(blbrY)), 5, (255, 0, 0), -1)\n",
        "\tcv2.circle(orig, (int(tlblX), int(tlblY)), 5, (255, 0, 0), -1)\n",
        "\tcv2.circle(orig, (int(trbrX), int(trbrY)), 5, (255, 0, 0), -1)\n",
        "\t# draw lines between the midpoints\n",
        "\tcv2.line(orig, (int(tltrX), int(tltrY)), (int(blbrX), int(blbrY)),\n",
        "\t\t(255, 0, 255), 2)\n",
        "\tcv2.line(orig, (int(tlblX), int(tlblY)), (int(trbrX), int(trbrY)),\n",
        "\t\t(255, 0, 255), 2)"
      ],
      "metadata": {
        "colab": {
          "base_uri": "https://localhost:8080/"
        },
        "id": "IlKQxwS0haUL",
        "outputId": "89bd6198-43b4-4ee8-ea2b-4b487f1c0f83"
      },
      "execution_count": 8,
      "outputs": [
        {
          "output_type": "execute_result",
          "data": {
            "text/plain": [
              "array([[[243, 243, 243],\n",
              "        [243, 243, 243],\n",
              "        [243, 243, 243],\n",
              "        ...,\n",
              "        [243, 243, 243],\n",
              "        [243, 243, 243],\n",
              "        [243, 243, 243]],\n",
              "\n",
              "       [[243, 243, 243],\n",
              "        [243, 243, 243],\n",
              "        [243, 243, 243],\n",
              "        ...,\n",
              "        [243, 243, 243],\n",
              "        [243, 243, 243],\n",
              "        [243, 243, 243]],\n",
              "\n",
              "       [[243, 243, 243],\n",
              "        [243, 243, 243],\n",
              "        [243, 243, 243],\n",
              "        ...,\n",
              "        [243, 243, 243],\n",
              "        [243, 243, 243],\n",
              "        [243, 243, 243]],\n",
              "\n",
              "       ...,\n",
              "\n",
              "       [[243, 243, 243],\n",
              "        [243, 243, 243],\n",
              "        [243, 243, 243],\n",
              "        ...,\n",
              "        [243, 243, 243],\n",
              "        [243, 243, 243],\n",
              "        [243, 243, 243]],\n",
              "\n",
              "       [[243, 243, 243],\n",
              "        [243, 243, 243],\n",
              "        [243, 243, 243],\n",
              "        ...,\n",
              "        [243, 243, 243],\n",
              "        [243, 243, 243],\n",
              "        [243, 243, 243]],\n",
              "\n",
              "       [[243, 243, 243],\n",
              "        [243, 243, 243],\n",
              "        [243, 243, 243],\n",
              "        ...,\n",
              "        [243, 243, 243],\n",
              "        [243, 243, 243],\n",
              "        [243, 243, 243]]], dtype=uint8)"
            ]
          },
          "metadata": {},
          "execution_count": 8
        }
      ]
    },
    {
      "cell_type": "code",
      "source": [
        "\t# compute the Euclidean distance between the midpoints\n",
        "\tdA = dist.euclidean((tltrX, tltrY), (blbrX, blbrY))\n",
        "\tdB = dist.euclidean((tlblX, tlblY), (trbrX, trbrY))\n",
        "\t# if the pixels per metric has not been initialized, then\n",
        "\t# compute it as the ratio of pixels to supplied metric\n"
      ],
      "metadata": {
        "id": "qbVxej6theyj"
      },
      "execution_count": 9,
      "outputs": []
    },
    {
      "cell_type": "code",
      "source": [
        "\t# compute the size of the object\n",
        "\tdimA = dA / pixelsPerMetric\n",
        "\tdimB = dB / pixelsPerMetric\n",
        "\t# draw the object sizes on the image\n",
        "\tcv2.putText(orig, \"{:.1f}in\".format(dimA),\n",
        "\t\t(int(tltrX - 15), int(tltrY - 10)), cv2.FONT_HERSHEY_SIMPLEX,\n",
        "\t\t0.65, (255, 255, 255), 2)\n",
        "\tcv2.putText(orig, \"{:.1f}in\".format(dimB),\n",
        "\t\t(int(trbrX + 10), int(trbrY)), cv2.FONT_HERSHEY_SIMPLEX,\n",
        "\t\t0.65, (255, 255, 255), 2)\n",
        "\t# show the output image\n",
        "\tcv2.imshow(\"Image\", orig)\n",
        "\tcv2.waitKey(0)"
      ],
      "metadata": {
        "colab": {
          "base_uri": "https://localhost:8080/",
          "height": 234
        },
        "id": "ejf7pNE5hiFc",
        "outputId": "c744d3d9-9ad3-4c59-ca6f-60b2df08a7ab"
      },
      "execution_count": 10,
      "outputs": [
        {
          "output_type": "error",
          "ename": "TypeError",
          "evalue": "ignored",
          "traceback": [
            "\u001b[0;31m---------------------------------------------------------------------------\u001b[0m",
            "\u001b[0;31mTypeError\u001b[0m                                 Traceback (most recent call last)",
            "\u001b[0;32m<ipython-input-10-51de42b4b739>\u001b[0m in \u001b[0;36m<module>\u001b[0;34m()\u001b[0m\n\u001b[1;32m      1\u001b[0m \u001b[0;31m# compute the size of the object\u001b[0m\u001b[0;34m\u001b[0m\u001b[0;34m\u001b[0m\u001b[0;34m\u001b[0m\u001b[0m\n\u001b[0;32m----> 2\u001b[0;31m \u001b[0mdimA\u001b[0m \u001b[0;34m=\u001b[0m \u001b[0mdA\u001b[0m \u001b[0;34m/\u001b[0m \u001b[0mpixelsPerMetric\u001b[0m\u001b[0;34m\u001b[0m\u001b[0;34m\u001b[0m\u001b[0m\n\u001b[0m\u001b[1;32m      3\u001b[0m \u001b[0mdimB\u001b[0m \u001b[0;34m=\u001b[0m \u001b[0mdB\u001b[0m \u001b[0;34m/\u001b[0m \u001b[0mpixelsPerMetric\u001b[0m\u001b[0;34m\u001b[0m\u001b[0;34m\u001b[0m\u001b[0m\n\u001b[1;32m      4\u001b[0m \u001b[0;31m# draw the object sizes on the image\u001b[0m\u001b[0;34m\u001b[0m\u001b[0;34m\u001b[0m\u001b[0;34m\u001b[0m\u001b[0m\n\u001b[1;32m      5\u001b[0m cv2.putText(orig, \"{:.1f}in\".format(dimA),\n",
            "\u001b[0;31mTypeError\u001b[0m: unsupported operand type(s) for /: 'float' and 'NoneType'"
          ]
        }
      ]
    },
    {
      "cell_type": "code",
      "source": [
        ""
      ],
      "metadata": {
        "id": "VPor_3bwh7xm"
      },
      "execution_count": null,
      "outputs": []
    }
  ]
}